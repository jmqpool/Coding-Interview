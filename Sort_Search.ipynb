{
 "cells": [
  {
   "cell_type": "markdown",
   "metadata": {},
   "source": [
    "# Search and Sort\n",
    "This notebook contains code for:\n",
    "* binary search\n",
    "* bubble sort\n",
    "* selection sort\n",
    "* insertion sort\n",
    "* merge sort\n"
   ]
  },
  {
   "cell_type": "markdown",
   "metadata": {},
   "source": [
    "## Binary Search\n",
    "Input: Sorted Array.   Value in the array. \n",
    "\n",
    "Output:  The index of the value in the array.\n",
    "\n",
    "Ex. array = [1, 2,7,12,18,19,25], value = 19.  Returns 5 (index starts at 0).\n",
    "\n",
    "Time Complexity: O(Log(n))\n",
    "\n",
    "Space Complexity: O(1)\n",
    "\n",
    "Algorithm:  Binary search compares the value to the middle element of the array; if they are unequal, the half in which the value cannot lie is eliminated and the search continues on the remaining half until it is successful."
   ]
  },
  {
   "cell_type": "code",
   "execution_count": 1,
   "metadata": {
    "collapsed": true
   },
   "outputs": [],
   "source": [
    "def binarysearch(array, value):\n",
    "\n",
    "    start = 0\n",
    "    end = len(array)-1\n",
    "\n",
    "    while start <= end:\n",
    "        midpoint = int((end+start)/2)\n",
    "        if array[midpoint] == value:\n",
    "            return midpoint\n",
    "        if array[midpoint] < value:\n",
    "            start = midpoint + 1\n",
    "        else:\n",
    "            end = midpoint - 1"
   ]
  },
  {
   "cell_type": "markdown",
   "metadata": {},
   "source": [
    "## Bubble Sort\n",
    "Input: Array. \n",
    "\n",
    "Output:  A sorted array.\n",
    "\n",
    "Ex. array = [1, 8, 4, 5, 18, 11],  Returns [1, 4, 5, 8, 11, 18].\n",
    "\n",
    "Time Complexity: O(n^2)\n",
    "\n",
    "Space Complexity: O(1)\n",
    "\n",
    "Algorithm: Bubble sort repeatedly steps through the list to be sorted, compares each pair of adjacent items and swaps them if they are in the wrong order. This pass through is repeated until no swaps are needed and the array is in order."
   ]
  },
  {
   "cell_type": "code",
   "execution_count": 2,
   "metadata": {
    "collapsed": true
   },
   "outputs": [],
   "source": [
    "def bubblesort(array):\n",
    "    n = len(array)\n",
    "    for j in range(n-1):\n",
    "        for i in range(n-1-j):\n",
    "            if array[i]>array[i+1]:\n",
    "                temp = array[i+1]\n",
    "                array[i+1] = array[i]\n",
    "                array[i] = temp\n",
    "        \n",
    "    return array"
   ]
  },
  {
   "cell_type": "markdown",
   "metadata": {},
   "source": [
    "## Selection Sort\n",
    "Input: Array. \n",
    "\n",
    "Output:  A sorted array.\n",
    "\n",
    "Ex. array = [1, 8, 4, 5, 18, 11],  Returns [1, 4, 5, 8, 11, 18].\n",
    "\n",
    "Time Complexity: O(n^2)\n",
    "\n",
    "Space Complexity: O(1)\n",
    "\n",
    "Algorithm:  \n",
    "The algorithm divides the list into 2 parts: the sublist of items already sorted, which is built up from left to right, and the sublist containing the rest of the list. Initially, the sorted sublist is empty and the unsorted sublist is the entire input list. The algorithm proceeds by finding the smallest element in the unsorted sublist, exchanging (swapping) it with the leftmost unsorted element (putting it in sorted order), and moving the sublist boundaries one element to the right."
   ]
  },
  {
   "cell_type": "code",
   "execution_count": 3,
   "metadata": {
    "collapsed": true
   },
   "outputs": [],
   "source": [
    "def selectionsort(array):\n",
    "    n = len(array)\n",
    "    for i in range(n-1):\n",
    "        iswap = i\n",
    "        for j in range(i,n):\n",
    "            if array[j]<array[iswap]:\n",
    "                iswap = j\n",
    "        temp = array[i]\n",
    "        array[i] = array[iswap]\n",
    "        array[iswap] = temp\n",
    "        \n",
    "    return array"
   ]
  },
  {
   "cell_type": "markdown",
   "metadata": {},
   "source": [
    "## Insertion Sort\n",
    "Input: Array. \n",
    "\n",
    "Output:  A sorted array.\n",
    "\n",
    "Ex. array = [1, 8, 4, 5, 18, 11],  Returns [1, 4, 5, 8, 11, 18].\n",
    "\n",
    "Time Complexity: O(n^2)\n",
    "\n",
    "Space Complexity: O(1)\n",
    "\n",
    "Algorithm: Insertion sort iterates, consuming one input element each repetition, and growing a sorted output list. At each iteration, insertion sort removes one element from the input data, finds the location it belongs within the sorted list, and inserts it there. It repeats until no input elements remain."
   ]
  },
  {
   "cell_type": "code",
   "execution_count": 4,
   "metadata": {
    "collapsed": true
   },
   "outputs": [],
   "source": [
    "def insertionsort(array):\n",
    "    n = len(array)\n",
    "    for i in range(1,n):\n",
    "        j=i\n",
    "        while array[j] < array[j-1]:\n",
    "            temp = array[j]\n",
    "            array[j] = array[j-1]\n",
    "            array[j-1] = temp\n",
    "            j = j-1\n",
    "            if j == 0:\n",
    "                break\n",
    "            \n",
    "    return array"
   ]
  },
  {
   "cell_type": "markdown",
   "metadata": {},
   "source": [
    "## Merge Sort\n",
    "Input: Array. \n",
    "\n",
    "Output:  A sorted array.\n",
    "\n",
    "Ex. array = [1, 8, 4, 5, 18, 11],  Returns [1, 4, 5, 8, 11, 18].\n",
    "\n",
    "Time Complexity: O(nLog(n))\n",
    "\n",
    "Space Complexity: O(n)  \n",
    "\n",
    "Algorithm: Mergesort divides and conquers!\n",
    "* Divide the unsorted list into n sublists, each containing 1 element (a list of 1 element is considered sorted).\n",
    "* Repeatedly merge sublists to produce new sorted sublists until there is only 1 sublist remaining. \n"
   ]
  },
  {
   "cell_type": "code",
   "execution_count": 5,
   "metadata": {
    "collapsed": true
   },
   "outputs": [],
   "source": [
    "def merge(array1, array2):\n",
    "    arraymerge = []\n",
    "    i = 0\n",
    "    j = 0 \n",
    "    while (i < len(array1)) and (j < len(array2)):\n",
    "        if array1[i] < array2[j]:\n",
    "            arraymerge.append(array1[i])\n",
    "            i+=1\n",
    "        else:\n",
    "            arraymerge.append(array2[j])\n",
    "            j+=1\n",
    "    arraymerge += array1[i:]\n",
    "    arraymerge += array2[j:]\n",
    "        \n",
    "    return arraymerge\n",
    "\n",
    " \n",
    "def mergesort(array):\n",
    "    if len(array) == 1:\n",
    "        return array\n",
    "    midpoint = int(len(array)/2)\n",
    "    left = mergesort(array[:midpoint])\n",
    "    right = mergesort(array[midpoint:])\n",
    "    return merge(left, right)"
   ]
  },
  {
   "cell_type": "markdown",
   "metadata": {},
   "source": [
    "### A few tests to verify code is working.\n",
    "\n",
    "More thorough unit tests should be coded."
   ]
  },
  {
   "cell_type": "code",
   "execution_count": 6,
   "metadata": {},
   "outputs": [
    {
     "data": {
      "text/plain": [
       "0"
      ]
     },
     "execution_count": 6,
     "metadata": {},
     "output_type": "execute_result"
    }
   ],
   "source": [
    "array = [1,2,3,4,5,6,7]\n",
    "binarysearch(array,1)"
   ]
  },
  {
   "cell_type": "code",
   "execution_count": 7,
   "metadata": {},
   "outputs": [
    {
     "data": {
      "text/plain": [
       "[1, 2, 3, 4, 5, 6, 7]"
      ]
     },
     "execution_count": 7,
     "metadata": {},
     "output_type": "execute_result"
    }
   ],
   "source": [
    "array = [7,6,5,4,3,2,1]\n",
    "insertionsort(array)"
   ]
  },
  {
   "cell_type": "code",
   "execution_count": 8,
   "metadata": {},
   "outputs": [
    {
     "data": {
      "text/plain": [
       "[1, 2, 3, 4, 5, 6, 7]"
      ]
     },
     "execution_count": 8,
     "metadata": {},
     "output_type": "execute_result"
    }
   ],
   "source": [
    "array = [7,6,5,4,3,2,1]\n",
    "bubblesort(array)"
   ]
  },
  {
   "cell_type": "code",
   "execution_count": 9,
   "metadata": {},
   "outputs": [
    {
     "data": {
      "text/plain": [
       "[1, 2, 3, 4, 5, 6, 7]"
      ]
     },
     "execution_count": 9,
     "metadata": {},
     "output_type": "execute_result"
    }
   ],
   "source": [
    "array = [7,6,5,4,3,2,1]\n",
    "selectionsort(array)"
   ]
  },
  {
   "cell_type": "code",
   "execution_count": 10,
   "metadata": {},
   "outputs": [
    {
     "data": {
      "text/plain": [
       "[1, 2, 3, 7, 8, 9, 12, 14]"
      ]
     },
     "execution_count": 10,
     "metadata": {},
     "output_type": "execute_result"
    }
   ],
   "source": [
    "#array1 = [0,0,4,8,10]\n",
    "array2 = []\n",
    "array1 = []\n",
    "#array2 = [2,3,8,9]\n",
    "array2 = [1,2,3,7,8,9,12,14]\n",
    "merge(array1,array2)\n"
   ]
  },
  {
   "cell_type": "code",
   "execution_count": 11,
   "metadata": {},
   "outputs": [
    {
     "data": {
      "text/plain": [
       "[0, 1, 2, 3, 4, 5, 6, 7]"
      ]
     },
     "execution_count": 11,
     "metadata": {},
     "output_type": "execute_result"
    }
   ],
   "source": [
    "array = [7,6,5,4,3,2,1,0]\n",
    "mergesort(array)"
   ]
  },
  {
   "cell_type": "code",
   "execution_count": 12,
   "metadata": {
    "collapsed": true
   },
   "outputs": [],
   "source": [
    " midpoint = int(len(array)/2)"
   ]
  },
  {
   "cell_type": "code",
   "execution_count": 13,
   "metadata": {},
   "outputs": [
    {
     "data": {
      "text/plain": [
       "[7, 6, 5, 4]"
      ]
     },
     "execution_count": 13,
     "metadata": {},
     "output_type": "execute_result"
    }
   ],
   "source": [
    "array[:midpoint]"
   ]
  },
  {
   "cell_type": "code",
   "execution_count": 14,
   "metadata": {},
   "outputs": [
    {
     "data": {
      "text/plain": [
       "[3, 2, 1, 0]"
      ]
     },
     "execution_count": 14,
     "metadata": {},
     "output_type": "execute_result"
    }
   ],
   "source": [
    "array[midpoint:]"
   ]
  },
  {
   "cell_type": "code",
   "execution_count": 15,
   "metadata": {},
   "outputs": [
    {
     "data": {
      "text/plain": [
       "4"
      ]
     },
     "execution_count": 15,
     "metadata": {},
     "output_type": "execute_result"
    }
   ],
   "source": [
    "midpoint"
   ]
  },
  {
   "cell_type": "code",
   "execution_count": 16,
   "metadata": {},
   "outputs": [
    {
     "data": {
      "text/plain": [
       "[7, 6, 5, 4, 3, 2, 1, 0]"
      ]
     },
     "execution_count": 16,
     "metadata": {},
     "output_type": "execute_result"
    }
   ],
   "source": [
    "array"
   ]
  },
  {
   "cell_type": "code",
   "execution_count": 17,
   "metadata": {},
   "outputs": [
    {
     "data": {
      "text/plain": [
       "1"
      ]
     },
     "execution_count": 17,
     "metadata": {},
     "output_type": "execute_result"
    }
   ],
   "source": [
    "int(3/2)"
   ]
  },
  {
   "cell_type": "code",
   "execution_count": 18,
   "metadata": {},
   "outputs": [
    {
     "data": {
      "text/plain": [
       "[7]"
      ]
     },
     "execution_count": 18,
     "metadata": {},
     "output_type": "execute_result"
    }
   ],
   "source": [
    "array[:1]"
   ]
  },
  {
   "cell_type": "code",
   "execution_count": null,
   "metadata": {
    "collapsed": true
   },
   "outputs": [],
   "source": []
  }
 ],
 "metadata": {
  "kernelspec": {
   "display_name": "Python 3",
   "language": "python",
   "name": "python3"
  },
  "language_info": {
   "codemirror_mode": {
    "name": "ipython",
    "version": 3
   },
   "file_extension": ".py",
   "mimetype": "text/x-python",
   "name": "python",
   "nbconvert_exporter": "python",
   "pygments_lexer": "ipython3",
   "version": "3.6.3"
  }
 },
 "nbformat": 4,
 "nbformat_minor": 2
}
