{
 "cells": [
  {
   "cell_type": "markdown",
   "metadata": {},
   "source": [
    "# Linked Lists\n",
    "\n",
    "\n",
    "Create a class for linked lists in Python. \n"
   ]
  },
  {
   "cell_type": "markdown",
   "metadata": {},
   "source": [
    "### Node Class\n",
    "Linked lists are defined through nodes, that contain a stored value and a pointer to the next element"
   ]
  },
  {
   "cell_type": "code",
   "execution_count": 1,
   "metadata": {
    "collapsed": true
   },
   "outputs": [],
   "source": [
    " \n",
    "# Node class \n",
    "class Node:\n",
    "    # Constructor to initialize the node object\n",
    "    def __init__(self, data = None):\n",
    "        self.data = data\n",
    "        self.next = None"
   ]
  },
  {
   "cell_type": "markdown",
   "metadata": {},
   "source": [
    "###  Linked List Class\n",
    "\n",
    "A traditional linked list has opperations: insertion, deletion and traversal. \n",
    "Here the operations for append, print and reverse are also defined."
   ]
  },
  {
   "cell_type": "code",
   "execution_count": 2,
   "metadata": {
    "collapsed": true
   },
   "outputs": [],
   "source": [
    "# Python code for a singly linked lists \n",
    "# LinkedList class\n",
    "class LinkedList: \n",
    "    \n",
    "    # Function to initialize head of linked list\n",
    "    def __init__(self,head = None):\n",
    "        #placeholder to point to first value\n",
    "        self.head = head\n",
    "        \n",
    "    # Function to insert a new node at the beginning\n",
    "    def append_start(self, data):\n",
    "        new_node = Node(data)\n",
    "        new_node.next = self.head\n",
    "        self.head = new_node\n",
    "        \n",
    "    # Function to insert a new node at the end of list\n",
    "    def append_end(self, data):\n",
    "        if(self.head == None):\n",
    "            self.head = Node(data)        \n",
    "        else:    \n",
    "            cur_node = self.head\n",
    "            while cur_node.next != None:\n",
    "                cur_node = cur_node.next\n",
    "            cur_node.next = Node(data) \n",
    "            \n",
    "    # Function to insert a new node at the nth position in list        \n",
    "    def insert(self, data, position):\n",
    "        if(position == 0):\n",
    "            new_node = Node(data)\n",
    "            new_node.next = self.head\n",
    "            self.head = new_node\n",
    "        else:\n",
    "            curr_node = self.head\n",
    "            for i in range(position-1):\n",
    "                curr_node = curr_node.next\n",
    "            new_node = Node(data)\n",
    "            new_node.next = curr_node.next\n",
    "            curr_node.next = new_node \n",
    "    \n",
    "    # Function to delete the node at the nth position  \n",
    "    def delete(self, position):\n",
    "        if(position == 0):\n",
    "            self.head = self.head.next\n",
    "        else:\n",
    "            curr_node = self.head\n",
    "            for i in range(position-1):\n",
    "                curr_node = curr_node.next\n",
    "            curr_node.next = curr_node.next.next\n",
    " \n",
    "    # Function to print the LinkedList\n",
    "    def print_list(self):\n",
    "        if(self.head == None):\n",
    "            return\n",
    "        cur_node = self.head\n",
    "        while(cur_node.next != None):\n",
    "            print (cur_node.data)\n",
    "            cur_node = cur_node.next\n",
    "        print(cur_node.data)\n",
    "        \n",
    "    # Function to print the LinkedList in reverse\n",
    "    def print_list_reverse(self, node = None):\n",
    "        if node == None:\n",
    "            return\n",
    "        else:\n",
    "            self.print_list_reverse(node.next)\n",
    "            print(node.data)\n",
    "                \n",
    "    # Function to reverse a LinkedList\n",
    "    def reverse(self): \n",
    "        prev_node = None\n",
    "        curr_node = self.head\n",
    "        while(curr_node is not None):\n",
    "            next_node = curr_node.next\n",
    "            curr_node.next = prev_node\n",
    "            prev_node = curr_node\n",
    "            curr_node = next_node\n",
    "        self.head = prev_node\n",
    "   "
   ]
  },
  {
   "cell_type": "markdown",
   "metadata": {},
   "source": [
    "###  A few tests to verify code is works.\n",
    "\n",
    "More thorough unit tests, should be written"
   ]
  },
  {
   "cell_type": "code",
   "execution_count": 3,
   "metadata": {},
   "outputs": [
    {
     "name": "stdout",
     "output_type": "stream",
     "text": [
      "58\n",
      "5\n",
      "1\n",
      "5\n",
      "8\n",
      "12\n",
      "5\n",
      "5\n",
      "12\n",
      "8\n",
      "5\n",
      "1\n",
      "5\n",
      "58\n"
     ]
    }
   ],
   "source": [
    "llist = LinkedList()\n",
    "llist.append_end(1)\n",
    "llist.append_end(2)\n",
    "llist.append_end(5)\n",
    "llist.append_end(12)\n",
    "llist.append_end(5)\n",
    "llist.append_start(5)\n",
    "llist.append_start(58)\n",
    "llist.insert(58,0)\n",
    "llist.insert(8,6)\n",
    "llist.delete(4)\n",
    "llist.delete(0)\n",
    "llist.print_list()\n",
    "llist.print_list_reverse(llist.head)"
   ]
  },
  {
   "cell_type": "code",
   "execution_count": 4,
   "metadata": {},
   "outputs": [
    {
     "name": "stdout",
     "output_type": "stream",
     "text": [
      "1\n",
      "2\n",
      "5\n",
      "5\n",
      "2\n",
      "1\n"
     ]
    }
   ],
   "source": [
    "llist = LinkedList()\n",
    "llist.append_end(1)\n",
    "llist.append_end(2)\n",
    "llist.append_end(5)\n",
    "llist.print_list()\n",
    "llist.print_list_reverse(llist.head)"
   ]
  },
  {
   "cell_type": "code",
   "execution_count": 5,
   "metadata": {},
   "outputs": [
    {
     "name": "stdout",
     "output_type": "stream",
     "text": [
      "1\n",
      "2\n",
      "5\n",
      "5\n",
      "2\n",
      "1\n"
     ]
    }
   ],
   "source": [
    "llist = LinkedList()\n",
    "llist.append_end(1)\n",
    "llist.append_end(2)\n",
    "llist.append_end(5)\n",
    "llist.print_list()\n",
    "llist.reverse()\n",
    "llist.print_list()"
   ]
  },
  {
   "cell_type": "code",
   "execution_count": null,
   "metadata": {
    "collapsed": true
   },
   "outputs": [],
   "source": []
  }
 ],
 "metadata": {
  "kernelspec": {
   "display_name": "Python 3",
   "language": "python",
   "name": "python3"
  },
  "language_info": {
   "codemirror_mode": {
    "name": "ipython",
    "version": 3
   },
   "file_extension": ".py",
   "mimetype": "text/x-python",
   "name": "python",
   "nbconvert_exporter": "python",
   "pygments_lexer": "ipython3",
   "version": "3.6.3"
  }
 },
 "nbformat": 4,
 "nbformat_minor": 2
}
